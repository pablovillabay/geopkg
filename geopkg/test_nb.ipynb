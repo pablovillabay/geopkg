{
 "cells": [
  {
   "cell_type": "code",
   "execution_count": 1,
   "metadata": {},
   "outputs": [],
   "source": [
    "from geopkg.io import las_io, tops_io, core_io"
   ]
  },
  {
   "cell_type": "code",
   "execution_count": 2,
   "metadata": {},
   "outputs": [],
   "source": [
    "logs_path = r'C:\\Users\\RY47284\\OneDrive - Repsol\\Codes\\PyThings\\Jupyters\\PyWellData\\PermPred\\Logs'\n",
    "tops_path = r'C:\\Users\\RY47284\\OneDrive - Repsol\\Codes\\PyThings\\Jupyters\\PyWellData\\PermPred\\Well_tops.txt'\n",
    "core_path = r'C:\\Users\\RY47284\\OneDrive - Repsol\\Codes\\PyThings\\Jupyters\\PyWellData\\PermPred\\core_data.ascii.txt'"
   ]
  },
  {
   "cell_type": "code",
   "execution_count": 3,
   "metadata": {},
   "outputs": [],
   "source": [
    "logs = las_io.las_multi(logs_path)\n",
    "logs.rename(mapper={'DEPT':'MD'}, axis=1, inplace=True)\n",
    "tops = tops_io.read_tops(tops_path, colnames=['Well', 'Surface', 'MD'])\n",
    "logs = tops_io.merge_tops(logs, tops, 'Surface', 'Well', 'MD', ['Overbuden', 'Base'])\n",
    "ccal = core_io.read_core(core_path)\n",
    "logs = core_io.merge_core(logs, ccal, 'Well', 'MD', ['CPoro', 'CPerm'])"
   ]
  },
  {
   "cell_type": "code",
   "execution_count": 7,
   "metadata": {},
   "outputs": [],
   "source": [
    "las_io.logs_save(logs, r'C:\\Users\\RY47284\\OneDrive - Repsol\\Codes\\PyThings\\Jupyters\\PyWellData\\PermPred')"
   ]
  },
  {
   "cell_type": "code",
   "execution_count": null,
   "metadata": {},
   "outputs": [],
   "source": []
  }
 ],
 "metadata": {
  "interpreter": {
   "hash": "ecf5722fdaf1897a315d257d89d94520bfcaa453217d5becf09b39e73618b0de"
  },
  "kernelspec": {
   "display_name": "Python 3.9.1 64-bit ('base': conda)",
   "name": "python3"
  },
  "language_info": {
   "codemirror_mode": {
    "name": "ipython",
    "version": 3
   },
   "file_extension": ".py",
   "mimetype": "text/x-python",
   "name": "python",
   "nbconvert_exporter": "python",
   "pygments_lexer": "ipython3",
   "version": "3.9.1"
  },
  "orig_nbformat": 4
 },
 "nbformat": 4,
 "nbformat_minor": 2
}
